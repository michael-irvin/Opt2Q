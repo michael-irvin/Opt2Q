{
  "nbformat_minor": 0, 
  "nbformat": 4, 
  "cells": [
    {
      "execution_count": null, 
      "cell_type": "code", 
      "source": [
        "%matplotlib inline"
      ], 
      "outputs": [], 
      "metadata": {
        "collapsed": false
      }
    }, 
    {
      "source": [
        "\nScatter plot of noise model results\n-----------------------------------\nSimple example of the Opt2Q noise simulation.\n\n\n"
      ], 
      "cell_type": "markdown", 
      "metadata": {}
    }, 
    {
      "execution_count": null, 
      "cell_type": "code", 
      "source": [
        "import pandas as pd\nfrom opt2q.noise import NoiseModel\nfrom matplotlib import pyplot as plt\n\nmean = pd.DataFrame([['kcat', 500, 'high_activity'],\n                     ['kcat', 100, 'low_activity' ],\n                     ['vol',   10, 'high_activity'],\n                     ['vol',   10, 'low_activity' ]],\n                    columns=['param', 'value', 'experimental_treatment'])\ncov = pd.DataFrame([['vol', 'kcat', 1.0], ['vol', 'vol', 3.0]], columns=['param_i', 'param_j', 'value'])\nexperimental_treatments = NoiseModel(param_mean=mean, param_covariance=cov)"
      ], 
      "outputs": [], 
      "metadata": {
        "collapsed": false
      }
    }
  ], 
  "metadata": {
    "kernelspec": {
      "display_name": "Python 2", 
      "name": "python2", 
      "language": "python"
    }, 
    "language_info": {
      "mimetype": "text/x-python", 
      "nbconvert_exporter": "python", 
      "name": "python", 
      "file_extension": ".py", 
      "version": "2.7.14", 
      "pygments_lexer": "ipython2", 
      "codemirror_mode": {
        "version": 2, 
        "name": "ipython"
      }
    }
  }
}