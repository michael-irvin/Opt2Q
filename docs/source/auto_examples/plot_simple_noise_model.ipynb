{
  "cells": [
    {
      "cell_type": "code",
      "execution_count": null,
      "metadata": {
        "collapsed": false
      },
      "outputs": [],
      "source": [
        "%matplotlib inline"
      ]
    },
    {
      "cell_type": "markdown",
      "metadata": {},
      "source": [
        "\nScatter plot of noise model results\n-----------------------------------\nSimple example of the Opt2Q noise simulation.\n\n\n"
      ]
    },
    {
      "cell_type": "code",
      "execution_count": null,
      "metadata": {
        "collapsed": false
      },
      "outputs": [],
      "source": [
        "import pandas as pd\nfrom opt2q.noise import NoiseModel\nfrom matplotlib import pyplot as plt\nfrom numpy import random\n\nrandom.seed(10)\n\nmean = pd.DataFrame([['kcat', 200, 'high_activity', 200],\n                     ['kcat', 100, 'low_activity' , 100],\n                     ['vol',   10, 'high_activity', 200],\n                     ['vol',   10, 'low_activity' , 100]],\n                    columns=['param', 'value', 'experimental_treatment', 'num_sims'])\ncov = pd.DataFrame([['vol', 'kcat', 30.0], ['vol', 'vol', 3.0]], columns=['param_i', 'param_j', 'value'])\nexperimental_treatments = NoiseModel(param_mean=mean, param_covariance=cov)\nparameters = experimental_treatments.run()\n\ncm = plt.get_cmap('tab10')\nfig, ax = plt.subplots(figsize=(8,6))\nfor i, (label, df) in enumerate(parameters.groupby('experimental_treatment')):\n    df.plot.scatter(x='kcat', y='vol', ax=ax, label=label, color=cm.colors[i])\nplt.legend()\nplt.show()"
      ]
    }
  ],
  "metadata": {
    "kernelspec": {
      "display_name": "Python 3",
      "language": "python",
      "name": "python3"
    },
    "language_info": {
      "codemirror_mode": {
        "name": "ipython",
        "version": 3
      },
      "file_extension": ".py",
      "mimetype": "text/x-python",
      "name": "python",
      "nbconvert_exporter": "python",
      "pygments_lexer": "ipython3",
      "version": "3.6.6"
    }
  },
  "nbformat": 4,
  "nbformat_minor": 0
}