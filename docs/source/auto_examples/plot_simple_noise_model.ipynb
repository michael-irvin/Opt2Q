{
  "nbformat_minor": 0, 
  "nbformat": 4, 
  "cells": [
    {
      "execution_count": null, 
      "cell_type": "code", 
      "source": [
        "%matplotlib inline"
      ], 
      "outputs": [], 
      "metadata": {
        "collapsed": false
      }
    }, 
    {
      "source": [
        "\nScatter plot of noise model results\n-----------------------------------\nSimple example of the Opt2Q noise simulation.\n\n\n"
      ], 
      "cell_type": "markdown", 
      "metadata": {}
    }, 
    {
      "execution_count": null, 
      "cell_type": "code", 
      "source": [
        "import pandas as pd\nfrom opt2q.noise import NoiseModel\nfrom matplotlib import pyplot as plt\n\n\nmean = pd.DataFrame([['kcat', 200, 'high_activity', 200],\n                     ['kcat', 100, 'low_activity' , 200],\n                     ['vol',   10, 'high_activity', 100],\n                     ['vol',   10, 'low_activity' , 100]],\n                    columns=['param', 'value', 'experimental_treatment', 'num_sims'])\ncov = pd.DataFrame([['vol', 'kcat', 30.0], ['vol', 'vol', 3.0]], columns=['param_i', 'param_j', 'value'])\nNoiseModel.default_sample_size = 200\nexperimental_treatments = NoiseModel(param_mean=mean, param_covariance=cov)\nparameters = experimental_treatments.run()\n\ncm = plt.get_cmap('tab10')\nfig, ax = plt.subplots(figsize=(8,6))\nfor i, (label, df) in enumerate(parameters.groupby('experimental_treatment')):\n    df.plot.scatter(x='kcat', y='vol', ax=ax, label=label, color=cm.colors[i])\nplt.legend()\nplt.show()"
      ], 
      "outputs": [], 
      "metadata": {
        "collapsed": false
      }
    }
  ], 
  "metadata": {
    "kernelspec": {
      "display_name": "Python 2", 
      "name": "python2", 
      "language": "python"
    }, 
    "language_info": {
      "mimetype": "text/x-python", 
      "nbconvert_exporter": "python", 
      "name": "python", 
      "file_extension": ".py", 
      "version": "2.7.14", 
      "pygments_lexer": "ipython2", 
      "codemirror_mode": {
        "version": 2, 
        "name": "ipython"
      }
    }
  }
}